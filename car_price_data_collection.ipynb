{
 "cells": [
  {
   "cell_type": "code",
   "execution_count": 1,
   "metadata": {},
   "outputs": [],
   "source": [
    "import selenium\n",
    "import time\n",
    "from selenium import webdriver\n",
    "from selenium.webdriver.common.keys import Keys\n",
    "from selenium.common.exceptions import NoSuchElementException\n",
    "from tqdm.notebook import tqdm_notebook\n",
    "import pandas as pd"
   ]
  },
  {
   "cell_type": "code",
   "execution_count": 4,
   "metadata": {},
   "outputs": [],
   "source": [
    "# Empty list to store data\n",
    "total_list = []    # store all data in a list\n",
    "model = []         # store model of car\n",
    "price = []         # store price of a car"
   ]
  },
  {
   "cell_type": "code",
   "execution_count": 7,
   "metadata": {},
   "outputs": [],
   "source": [
    "def car24_data(url):\n",
    "    \n",
    "    # calling the webdriver and then providing the desired url\n",
    "    driver = webdriver.Chrome(\"chromedriver.exe\")\n",
    "    driver.get(url)\n",
    "    driver.maximize_window()\n",
    "\n",
    "    # scroll down the page to the table\n",
    "    SCROLL_PAUSE_TIME = 0.5\n",
    "\n",
    "    # Get scroll height\n",
    "    last_height = driver.execute_script(\"return document.body.scrollHeight\")\n",
    "\n",
    "    while True:\n",
    "        # Scroll down to bottom\n",
    "        driver.execute_script(\"window.scrollTo(0, document.body.scrollHeight);\")\n",
    "\n",
    "        # Wait to load page\n",
    "        time.sleep(SCROLL_PAUSE_TIME)\n",
    "\n",
    "        # Calculate new scroll height and compare with last scroll height\n",
    "        new_height = driver.execute_script(\"return document.body.scrollHeight\")\n",
    "        if new_height == last_height:\n",
    "            break\n",
    "        last_height = new_height\n",
    "    \n",
    "    # empty list to store urls\n",
    "    car24_urls=[]\n",
    "    for i in driver.find_elements_by_xpath(\"//a[@class='_9Ue0B']\"):\n",
    "        car24_urls.append(i.get_attribute('href'))\n",
    "    \n",
    "    print(len(car24_urls))\n",
    "    \n",
    "\n",
    "    # setting a loop from the urls list to find data\n",
    "    for i in tqdm_notebook(car24_urls[2:]):\n",
    "        driver.get(i)\n",
    "        driver.implicitly_wait(10)\n",
    "        \n",
    "        # scrapping model of car\n",
    "        try:model.append(driver.find_element_by_xpath('//h2[@class=\"_2geSF\"]').text)\n",
    "        except NoSuchElementException:\n",
    "            model.append(\"Not Available\")\n",
    "        \n",
    "        # scrapping price of car\n",
    "        try:price.append(driver.find_element_by_xpath('//div[@class=\"text-right g-hPT\"]/strong').text)\n",
    "        except NoSuchElementException:\n",
    "            price.append(\"Not Available\")\n",
    "        \n",
    "        # scrapping data present for the car \n",
    "        try:total_list.append(driver.find_element_by_xpath('//ul[@class=\"_2KO13\"]').text)\n",
    "        except NoSuchElementException:\n",
    "            total_list.append(\"Not Avalable\")  "
   ]
  },
  {
   "cell_type": "code",
   "execution_count": 8,
   "metadata": {},
   "outputs": [
    {
     "name": "stdout",
     "output_type": "stream",
     "text": [
      "2011\n"
     ]
    },
    {
     "data": {
      "application/vnd.jupyter.widget-view+json": {
       "model_id": "bf73ab5622bf42cfbb1e495144a0b0cc",
       "version_major": 2,
       "version_minor": 0
      },
      "text/plain": [
       "HBox(children=(FloatProgress(value=0.0, max=2009.0), HTML(value='')))"
      ]
     },
     "metadata": {},
     "output_type": "display_data"
    },
    {
     "name": "stdout",
     "output_type": "stream",
     "text": [
      "\n"
     ]
    }
   ],
   "source": [
    "# Calling function\n",
    "car24_data(\"https://www.cars24.com/buy-used-car?sort=P&storeCityId=5&pinId=122001\")"
   ]
  },
  {
   "cell_type": "code",
   "execution_count": 9,
   "metadata": {},
   "outputs": [
    {
     "data": {
      "text/html": [
       "<div>\n",
       "<style scoped>\n",
       "    .dataframe tbody tr th:only-of-type {\n",
       "        vertical-align: middle;\n",
       "    }\n",
       "\n",
       "    .dataframe tbody tr th {\n",
       "        vertical-align: top;\n",
       "    }\n",
       "\n",
       "    .dataframe thead th {\n",
       "        text-align: right;\n",
       "    }\n",
       "</style>\n",
       "<table border=\"1\" class=\"dataframe\">\n",
       "  <thead>\n",
       "    <tr style=\"text-align: right;\">\n",
       "      <th></th>\n",
       "      <th>Model</th>\n",
       "      <th>list</th>\n",
       "      <th>Price</th>\n",
       "    </tr>\n",
       "  </thead>\n",
       "  <tbody>\n",
       "    <tr>\n",
       "      <th>0</th>\n",
       "      <td>2020 Maruti Baleno DELTA 1.2 K12 MANUAL</td>\n",
       "      <td>History\\nNon-Accidental\\nOwner\\n1st Owner\\nKil...</td>\n",
       "      <td>₹6,59,399</td>\n",
       "    </tr>\n",
       "    <tr>\n",
       "      <th>1</th>\n",
       "      <td>2020 Maruti IGNIS SIGMA 1.2 K12 MANUAL</td>\n",
       "      <td>History\\nNon-Accidental\\nOwner\\n1st Owner\\nKil...</td>\n",
       "      <td>₹5,25,699</td>\n",
       "    </tr>\n",
       "    <tr>\n",
       "      <th>2</th>\n",
       "      <td>2020 Maruti S PRESSO VXI</td>\n",
       "      <td>History\\nNon-Accidental\\nOwner\\n1st Owner\\nKil...</td>\n",
       "      <td>₹4,08,499</td>\n",
       "    </tr>\n",
       "    <tr>\n",
       "      <th>3</th>\n",
       "      <td>2013 Maruti Swift VDI MANUAL</td>\n",
       "      <td>History\\nNon-Accidental\\nOwner\\n1st Owner\\nKil...</td>\n",
       "      <td>₹3,78,499</td>\n",
       "    </tr>\n",
       "    <tr>\n",
       "      <th>4</th>\n",
       "      <td>2014 Maruti Alto 800 VXI MANUAL</td>\n",
       "      <td>History\\nNon-Accidental\\nOwner\\n1st Owner\\nKil...</td>\n",
       "      <td>₹2,85,699</td>\n",
       "    </tr>\n",
       "    <tr>\n",
       "      <th>...</th>\n",
       "      <td>...</td>\n",
       "      <td>...</td>\n",
       "      <td>...</td>\n",
       "    </tr>\n",
       "    <tr>\n",
       "      <th>2004</th>\n",
       "      <td>2019 Hyundai NEW SANTRO SPORTZ 1.1</td>\n",
       "      <td>History\\nNon-Accidental\\nOwner\\n1st Owner\\nKil...</td>\n",
       "      <td>₹4,91,499</td>\n",
       "    </tr>\n",
       "    <tr>\n",
       "      <th>2005</th>\n",
       "      <td>2015 Maruti Alto K10 VXI MANUAL</td>\n",
       "      <td>History\\nNon-Accidental\\nOwner\\n1st Owner\\nKil...</td>\n",
       "      <td>₹2,52,299</td>\n",
       "    </tr>\n",
       "    <tr>\n",
       "      <th>2006</th>\n",
       "      <td>2017 Hyundai Elite i20 SPORTZ 1.2 MANUAL</td>\n",
       "      <td>History\\nNon-Accidental\\nOwner\\n1st Owner\\nKil...</td>\n",
       "      <td>₹5,65,999</td>\n",
       "    </tr>\n",
       "    <tr>\n",
       "      <th>2007</th>\n",
       "      <td>2018 Ford Ecosport 1.5 TREND TDCI MANUAL</td>\n",
       "      <td>History\\nNon-Accidental\\nOwner\\n1st Owner\\nKil...</td>\n",
       "      <td>₹7,20,799</td>\n",
       "    </tr>\n",
       "    <tr>\n",
       "      <th>2008</th>\n",
       "      <td>2012 Toyota Fortuner 3.0 AT 4X2 AUTOMATIC</td>\n",
       "      <td>History\\nNon-Accidental\\nOwner\\n2nd Owner\\nKil...</td>\n",
       "      <td>₹13,67,299</td>\n",
       "    </tr>\n",
       "  </tbody>\n",
       "</table>\n",
       "<p>2009 rows × 3 columns</p>\n",
       "</div>"
      ],
      "text/plain": [
       "                                          Model  \\\n",
       "0       2020 Maruti Baleno DELTA 1.2 K12 MANUAL   \n",
       "1        2020 Maruti IGNIS SIGMA 1.2 K12 MANUAL   \n",
       "2                      2020 Maruti S PRESSO VXI   \n",
       "3                  2013 Maruti Swift VDI MANUAL   \n",
       "4               2014 Maruti Alto 800 VXI MANUAL   \n",
       "...                                         ...   \n",
       "2004         2019 Hyundai NEW SANTRO SPORTZ 1.1   \n",
       "2005            2015 Maruti Alto K10 VXI MANUAL   \n",
       "2006   2017 Hyundai Elite i20 SPORTZ 1.2 MANUAL   \n",
       "2007   2018 Ford Ecosport 1.5 TREND TDCI MANUAL   \n",
       "2008  2012 Toyota Fortuner 3.0 AT 4X2 AUTOMATIC   \n",
       "\n",
       "                                                   list       Price  \n",
       "0     History\\nNon-Accidental\\nOwner\\n1st Owner\\nKil...   ₹6,59,399  \n",
       "1     History\\nNon-Accidental\\nOwner\\n1st Owner\\nKil...   ₹5,25,699  \n",
       "2     History\\nNon-Accidental\\nOwner\\n1st Owner\\nKil...   ₹4,08,499  \n",
       "3     History\\nNon-Accidental\\nOwner\\n1st Owner\\nKil...   ₹3,78,499  \n",
       "4     History\\nNon-Accidental\\nOwner\\n1st Owner\\nKil...   ₹2,85,699  \n",
       "...                                                 ...         ...  \n",
       "2004  History\\nNon-Accidental\\nOwner\\n1st Owner\\nKil...   ₹4,91,499  \n",
       "2005  History\\nNon-Accidental\\nOwner\\n1st Owner\\nKil...   ₹2,52,299  \n",
       "2006  History\\nNon-Accidental\\nOwner\\n1st Owner\\nKil...   ₹5,65,999  \n",
       "2007  History\\nNon-Accidental\\nOwner\\n1st Owner\\nKil...   ₹7,20,799  \n",
       "2008  History\\nNon-Accidental\\nOwner\\n2nd Owner\\nKil...  ₹13,67,299  \n",
       "\n",
       "[2009 rows x 3 columns]"
      ]
     },
     "execution_count": 9,
     "metadata": {},
     "output_type": "execute_result"
    }
   ],
   "source": [
    "# Saving data into pandas dataframe\n",
    "car24_data=pd.DataFrame({\"Model\":model,\"list\":total_list,\"Price\":price})\n",
    "\n",
    "car24_data"
   ]
  },
  {
   "cell_type": "code",
   "execution_count": 10,
   "metadata": {},
   "outputs": [],
   "source": [
    "#Saving to excel file\n",
    "car24_data.to_excel(\"car24_dataframe1.xlsx\",index=False)"
   ]
  },
  {
   "cell_type": "code",
   "execution_count": 13,
   "metadata": {},
   "outputs": [
    {
     "name": "stdout",
     "output_type": "stream",
     "text": [
      "1661\n"
     ]
    },
    {
     "data": {
      "application/vnd.jupyter.widget-view+json": {
       "model_id": "6e7ec69c5409432bbcd502d273bbaec2",
       "version_major": 2,
       "version_minor": 0
      },
      "text/plain": [
       "HBox(children=(FloatProgress(value=0.0, max=1659.0), HTML(value='')))"
      ]
     },
     "metadata": {},
     "output_type": "display_data"
    },
    {
     "name": "stdout",
     "output_type": "stream",
     "text": [
      "\n"
     ]
    },
    {
     "ename": "WebDriverException",
     "evalue": "Message: disconnected: Unable to receive message from renderer\n  (Session info: chrome=92.0.4515.159)\n",
     "output_type": "error",
     "traceback": [
      "\u001b[1;31m---------------------------------------------------------------------------\u001b[0m",
      "\u001b[1;31mWebDriverException\u001b[0m                        Traceback (most recent call last)",
      "\u001b[1;32m<ipython-input-13-8bed3a0b7dde>\u001b[0m in \u001b[0;36m<module>\u001b[1;34m\u001b[0m\n\u001b[0;32m      5\u001b[0m \u001b[1;33m\u001b[0m\u001b[0m\n\u001b[0;32m      6\u001b[0m \u001b[1;33m\u001b[0m\u001b[0m\n\u001b[1;32m----> 7\u001b[1;33m \u001b[0mcar24_data\u001b[0m\u001b[1;33m(\u001b[0m\u001b[1;34m\"https://www.cars24.com/buy-used-car?sort=P&storeCityId=2378&pinId=400001\"\u001b[0m\u001b[1;33m)\u001b[0m\u001b[1;33m\u001b[0m\u001b[1;33m\u001b[0m\u001b[0m\n\u001b[0m",
      "\u001b[1;32m<ipython-input-12-d8ba47816040>\u001b[0m in \u001b[0;36mcar24_data\u001b[1;34m(url)\u001b[0m\n\u001b[0;32m     34\u001b[0m \u001b[1;33m\u001b[0m\u001b[0m\n\u001b[0;32m     35\u001b[0m     \u001b[1;32mfor\u001b[0m \u001b[0mi\u001b[0m \u001b[1;32min\u001b[0m \u001b[0mtqdm_notebook\u001b[0m\u001b[1;33m(\u001b[0m\u001b[0mcar24_urls\u001b[0m\u001b[1;33m[\u001b[0m\u001b[1;36m2\u001b[0m\u001b[1;33m:\u001b[0m\u001b[1;33m]\u001b[0m\u001b[1;33m)\u001b[0m\u001b[1;33m:\u001b[0m\u001b[1;33m\u001b[0m\u001b[1;33m\u001b[0m\u001b[0m\n\u001b[1;32m---> 36\u001b[1;33m         \u001b[0mdriver\u001b[0m\u001b[1;33m.\u001b[0m\u001b[0mget\u001b[0m\u001b[1;33m(\u001b[0m\u001b[0mi\u001b[0m\u001b[1;33m)\u001b[0m\u001b[1;33m\u001b[0m\u001b[1;33m\u001b[0m\u001b[0m\n\u001b[0m\u001b[0;32m     37\u001b[0m         \u001b[0mdriver\u001b[0m\u001b[1;33m.\u001b[0m\u001b[0mimplicitly_wait\u001b[0m\u001b[1;33m(\u001b[0m\u001b[1;36m10\u001b[0m\u001b[1;33m)\u001b[0m\u001b[1;33m\u001b[0m\u001b[1;33m\u001b[0m\u001b[0m\n\u001b[0;32m     38\u001b[0m \u001b[1;33m\u001b[0m\u001b[0m\n",
      "\u001b[1;32mC:\\ProgramData\\Anaconda3\\lib\\site-packages\\selenium\\webdriver\\remote\\webdriver.py\u001b[0m in \u001b[0;36mget\u001b[1;34m(self, url)\u001b[0m\n\u001b[0;32m    331\u001b[0m         \u001b[0mLoads\u001b[0m \u001b[0ma\u001b[0m \u001b[0mweb\u001b[0m \u001b[0mpage\u001b[0m \u001b[1;32min\u001b[0m \u001b[0mthe\u001b[0m \u001b[0mcurrent\u001b[0m \u001b[0mbrowser\u001b[0m \u001b[0msession\u001b[0m\u001b[1;33m.\u001b[0m\u001b[1;33m\u001b[0m\u001b[1;33m\u001b[0m\u001b[0m\n\u001b[0;32m    332\u001b[0m         \"\"\"\n\u001b[1;32m--> 333\u001b[1;33m         \u001b[0mself\u001b[0m\u001b[1;33m.\u001b[0m\u001b[0mexecute\u001b[0m\u001b[1;33m(\u001b[0m\u001b[0mCommand\u001b[0m\u001b[1;33m.\u001b[0m\u001b[0mGET\u001b[0m\u001b[1;33m,\u001b[0m \u001b[1;33m{\u001b[0m\u001b[1;34m'url'\u001b[0m\u001b[1;33m:\u001b[0m \u001b[0murl\u001b[0m\u001b[1;33m}\u001b[0m\u001b[1;33m)\u001b[0m\u001b[1;33m\u001b[0m\u001b[1;33m\u001b[0m\u001b[0m\n\u001b[0m\u001b[0;32m    334\u001b[0m \u001b[1;33m\u001b[0m\u001b[0m\n\u001b[0;32m    335\u001b[0m     \u001b[1;33m@\u001b[0m\u001b[0mproperty\u001b[0m\u001b[1;33m\u001b[0m\u001b[1;33m\u001b[0m\u001b[0m\n",
      "\u001b[1;32mC:\\ProgramData\\Anaconda3\\lib\\site-packages\\selenium\\webdriver\\remote\\webdriver.py\u001b[0m in \u001b[0;36mexecute\u001b[1;34m(self, driver_command, params)\u001b[0m\n\u001b[0;32m    319\u001b[0m         \u001b[0mresponse\u001b[0m \u001b[1;33m=\u001b[0m \u001b[0mself\u001b[0m\u001b[1;33m.\u001b[0m\u001b[0mcommand_executor\u001b[0m\u001b[1;33m.\u001b[0m\u001b[0mexecute\u001b[0m\u001b[1;33m(\u001b[0m\u001b[0mdriver_command\u001b[0m\u001b[1;33m,\u001b[0m \u001b[0mparams\u001b[0m\u001b[1;33m)\u001b[0m\u001b[1;33m\u001b[0m\u001b[1;33m\u001b[0m\u001b[0m\n\u001b[0;32m    320\u001b[0m         \u001b[1;32mif\u001b[0m \u001b[0mresponse\u001b[0m\u001b[1;33m:\u001b[0m\u001b[1;33m\u001b[0m\u001b[1;33m\u001b[0m\u001b[0m\n\u001b[1;32m--> 321\u001b[1;33m             \u001b[0mself\u001b[0m\u001b[1;33m.\u001b[0m\u001b[0merror_handler\u001b[0m\u001b[1;33m.\u001b[0m\u001b[0mcheck_response\u001b[0m\u001b[1;33m(\u001b[0m\u001b[0mresponse\u001b[0m\u001b[1;33m)\u001b[0m\u001b[1;33m\u001b[0m\u001b[1;33m\u001b[0m\u001b[0m\n\u001b[0m\u001b[0;32m    322\u001b[0m             response['value'] = self._unwrap_value(\n\u001b[0;32m    323\u001b[0m                 response.get('value', None))\n",
      "\u001b[1;32mC:\\ProgramData\\Anaconda3\\lib\\site-packages\\selenium\\webdriver\\remote\\errorhandler.py\u001b[0m in \u001b[0;36mcheck_response\u001b[1;34m(self, response)\u001b[0m\n\u001b[0;32m    240\u001b[0m                 \u001b[0malert_text\u001b[0m \u001b[1;33m=\u001b[0m \u001b[0mvalue\u001b[0m\u001b[1;33m[\u001b[0m\u001b[1;34m'alert'\u001b[0m\u001b[1;33m]\u001b[0m\u001b[1;33m.\u001b[0m\u001b[0mget\u001b[0m\u001b[1;33m(\u001b[0m\u001b[1;34m'text'\u001b[0m\u001b[1;33m)\u001b[0m\u001b[1;33m\u001b[0m\u001b[1;33m\u001b[0m\u001b[0m\n\u001b[0;32m    241\u001b[0m             \u001b[1;32mraise\u001b[0m \u001b[0mexception_class\u001b[0m\u001b[1;33m(\u001b[0m\u001b[0mmessage\u001b[0m\u001b[1;33m,\u001b[0m \u001b[0mscreen\u001b[0m\u001b[1;33m,\u001b[0m \u001b[0mstacktrace\u001b[0m\u001b[1;33m,\u001b[0m \u001b[0malert_text\u001b[0m\u001b[1;33m)\u001b[0m\u001b[1;33m\u001b[0m\u001b[1;33m\u001b[0m\u001b[0m\n\u001b[1;32m--> 242\u001b[1;33m         \u001b[1;32mraise\u001b[0m \u001b[0mexception_class\u001b[0m\u001b[1;33m(\u001b[0m\u001b[0mmessage\u001b[0m\u001b[1;33m,\u001b[0m \u001b[0mscreen\u001b[0m\u001b[1;33m,\u001b[0m \u001b[0mstacktrace\u001b[0m\u001b[1;33m)\u001b[0m\u001b[1;33m\u001b[0m\u001b[1;33m\u001b[0m\u001b[0m\n\u001b[0m\u001b[0;32m    243\u001b[0m \u001b[1;33m\u001b[0m\u001b[0m\n\u001b[0;32m    244\u001b[0m     \u001b[1;32mdef\u001b[0m \u001b[0m_value_or_default\u001b[0m\u001b[1;33m(\u001b[0m\u001b[0mself\u001b[0m\u001b[1;33m,\u001b[0m \u001b[0mobj\u001b[0m\u001b[1;33m,\u001b[0m \u001b[0mkey\u001b[0m\u001b[1;33m,\u001b[0m \u001b[0mdefault\u001b[0m\u001b[1;33m)\u001b[0m\u001b[1;33m:\u001b[0m\u001b[1;33m\u001b[0m\u001b[1;33m\u001b[0m\u001b[0m\n",
      "\u001b[1;31mWebDriverException\u001b[0m: Message: disconnected: Unable to receive message from renderer\n  (Session info: chrome=92.0.4515.159)\n"
     ]
    }
   ],
   "source": [
    "# another list to store new data\n",
    "total_list = []\n",
    "model = []\n",
    "price = []\n",
    "\n",
    "\n",
    "car24_data(\"https://www.cars24.com/buy-used-car?sort=P&storeCityId=2378&pinId=400001\")"
   ]
  },
  {
   "cell_type": "code",
   "execution_count": null,
   "metadata": {},
   "outputs": [],
   "source": []
  },
  {
   "cell_type": "code",
   "execution_count": 14,
   "metadata": {},
   "outputs": [
    {
     "data": {
      "text/html": [
       "<div>\n",
       "<style scoped>\n",
       "    .dataframe tbody tr th:only-of-type {\n",
       "        vertical-align: middle;\n",
       "    }\n",
       "\n",
       "    .dataframe tbody tr th {\n",
       "        vertical-align: top;\n",
       "    }\n",
       "\n",
       "    .dataframe thead th {\n",
       "        text-align: right;\n",
       "    }\n",
       "</style>\n",
       "<table border=\"1\" class=\"dataframe\">\n",
       "  <thead>\n",
       "    <tr style=\"text-align: right;\">\n",
       "      <th></th>\n",
       "      <th>Model</th>\n",
       "      <th>list</th>\n",
       "      <th>Price</th>\n",
       "    </tr>\n",
       "  </thead>\n",
       "  <tbody>\n",
       "    <tr>\n",
       "      <th>0</th>\n",
       "      <td>2013 Maruti Wagon R 1.0 LXI MANUAL</td>\n",
       "      <td>History\\nNon-Accidental\\nOwner\\n1st Owner\\nKil...</td>\n",
       "      <td>₹3,30,499</td>\n",
       "    </tr>\n",
       "    <tr>\n",
       "      <th>1</th>\n",
       "      <td>2014 Hyundai i10 MAGNA 1.1 IRDE2 MANUAL</td>\n",
       "      <td>History\\nNon-Accidental\\nOwner\\n1st Owner\\nKil...</td>\n",
       "      <td>₹3,71,499</td>\n",
       "    </tr>\n",
       "    <tr>\n",
       "      <th>2</th>\n",
       "      <td>2015 Maruti Wagon R 1.0 VXI MANUAL</td>\n",
       "      <td>History\\nNon-Accidental\\nOwner\\n1st Owner\\nKil...</td>\n",
       "      <td>₹3,63,999</td>\n",
       "    </tr>\n",
       "    <tr>\n",
       "      <th>3</th>\n",
       "      <td>2015 Maruti Alto 800 LXI MANUAL</td>\n",
       "      <td>History\\nNon-Accidental\\nOwner\\n2nd Owner\\nKil...</td>\n",
       "      <td>₹2,66,299</td>\n",
       "    </tr>\n",
       "    <tr>\n",
       "      <th>4</th>\n",
       "      <td>2011 Maruti Alto LXI MANUAL</td>\n",
       "      <td>History\\nNon-Accidental\\nOwner\\n1st Owner\\nKil...</td>\n",
       "      <td>₹2,00,699</td>\n",
       "    </tr>\n",
       "    <tr>\n",
       "      <th>...</th>\n",
       "      <td>...</td>\n",
       "      <td>...</td>\n",
       "      <td>...</td>\n",
       "    </tr>\n",
       "    <tr>\n",
       "      <th>676</th>\n",
       "      <td>2017 Maruti Baleno ZETA 1.2 K12 MANUAL</td>\n",
       "      <td>History\\nNon-Accidental\\nOwner\\n1st Owner\\nKil...</td>\n",
       "      <td>₹5,96,620</td>\n",
       "    </tr>\n",
       "    <tr>\n",
       "      <th>677</th>\n",
       "      <td>2019 Maruti New Wagon-R LXI CNG 1.0 L MANUAL</td>\n",
       "      <td>History\\nNon-Accidental\\nOwner\\n1st Owner\\nKil...</td>\n",
       "      <td>₹5,66,499</td>\n",
       "    </tr>\n",
       "    <tr>\n",
       "      <th>678</th>\n",
       "      <td>2015 Maruti Ciaz ZXI PLUS MANUAL</td>\n",
       "      <td>History\\nNon-Accidental\\nOwner\\n1st Owner\\nKil...</td>\n",
       "      <td>₹5,69,199</td>\n",
       "    </tr>\n",
       "    <tr>\n",
       "      <th>679</th>\n",
       "      <td>2015 Hyundai Elite i20 ASTA 1.2 MANUAL</td>\n",
       "      <td>History\\nNon-Accidental\\nOwner\\n1st Owner\\nKil...</td>\n",
       "      <td>₹5,67,399</td>\n",
       "    </tr>\n",
       "    <tr>\n",
       "      <th>680</th>\n",
       "      <td>2011 Hyundai i10 MAGNA 1.1 IRDE2 MANUAL</td>\n",
       "      <td>History\\nNon-Accidental\\nOwner\\n1st Owner\\nKil...</td>\n",
       "      <td>₹2,60,000</td>\n",
       "    </tr>\n",
       "  </tbody>\n",
       "</table>\n",
       "<p>681 rows × 3 columns</p>\n",
       "</div>"
      ],
      "text/plain": [
       "                                            Model  \\\n",
       "0              2013 Maruti Wagon R 1.0 LXI MANUAL   \n",
       "1         2014 Hyundai i10 MAGNA 1.1 IRDE2 MANUAL   \n",
       "2              2015 Maruti Wagon R 1.0 VXI MANUAL   \n",
       "3                 2015 Maruti Alto 800 LXI MANUAL   \n",
       "4                     2011 Maruti Alto LXI MANUAL   \n",
       "..                                            ...   \n",
       "676        2017 Maruti Baleno ZETA 1.2 K12 MANUAL   \n",
       "677  2019 Maruti New Wagon-R LXI CNG 1.0 L MANUAL   \n",
       "678              2015 Maruti Ciaz ZXI PLUS MANUAL   \n",
       "679        2015 Hyundai Elite i20 ASTA 1.2 MANUAL   \n",
       "680       2011 Hyundai i10 MAGNA 1.1 IRDE2 MANUAL   \n",
       "\n",
       "                                                  list      Price  \n",
       "0    History\\nNon-Accidental\\nOwner\\n1st Owner\\nKil...  ₹3,30,499  \n",
       "1    History\\nNon-Accidental\\nOwner\\n1st Owner\\nKil...  ₹3,71,499  \n",
       "2    History\\nNon-Accidental\\nOwner\\n1st Owner\\nKil...  ₹3,63,999  \n",
       "3    History\\nNon-Accidental\\nOwner\\n2nd Owner\\nKil...  ₹2,66,299  \n",
       "4    History\\nNon-Accidental\\nOwner\\n1st Owner\\nKil...  ₹2,00,699  \n",
       "..                                                 ...        ...  \n",
       "676  History\\nNon-Accidental\\nOwner\\n1st Owner\\nKil...  ₹5,96,620  \n",
       "677  History\\nNon-Accidental\\nOwner\\n1st Owner\\nKil...  ₹5,66,499  \n",
       "678  History\\nNon-Accidental\\nOwner\\n1st Owner\\nKil...  ₹5,69,199  \n",
       "679  History\\nNon-Accidental\\nOwner\\n1st Owner\\nKil...  ₹5,67,399  \n",
       "680  History\\nNon-Accidental\\nOwner\\n1st Owner\\nKil...  ₹2,60,000  \n",
       "\n",
       "[681 rows x 3 columns]"
      ]
     },
     "execution_count": 14,
     "metadata": {},
     "output_type": "execute_result"
    }
   ],
   "source": [
    "# Saving data into pandas dataframe\n",
    "car24_2nd_data=pd.DataFrame({\"Model\":model,\"list\":total_list,\"Price\":price})\n",
    "\n",
    "car24_2nd_data"
   ]
  },
  {
   "cell_type": "code",
   "execution_count": 15,
   "metadata": {},
   "outputs": [],
   "source": [
    "# Saving into excel file\n",
    "car24_2nd_data.to_excel(\"car24_dataframe2.xlsx\",index=False)"
   ]
  },
  {
   "cell_type": "code",
   "execution_count": 18,
   "metadata": {},
   "outputs": [
    {
     "name": "stdout",
     "output_type": "stream",
     "text": [
      "767\n"
     ]
    },
    {
     "data": {
      "application/vnd.jupyter.widget-view+json": {
       "model_id": "26c292f0b4024cc78e7fe101bc98cb08",
       "version_major": 2,
       "version_minor": 0
      },
      "text/plain": [
       "HBox(children=(FloatProgress(value=0.0, max=765.0), HTML(value='')))"
      ]
     },
     "metadata": {},
     "output_type": "display_data"
    },
    {
     "name": "stdout",
     "output_type": "stream",
     "text": [
      "\n"
     ]
    }
   ],
   "source": [
    "# For Bangalore\n",
    "total_list = []\n",
    "model = []\n",
    "price = []\n",
    "\n",
    "\n",
    "car24_data(\"https://www.cars24.com/buy-used-car?sort=P&storeCityId=4709&pinId=560001\")"
   ]
  },
  {
   "cell_type": "code",
   "execution_count": 19,
   "metadata": {},
   "outputs": [
    {
     "data": {
      "text/html": [
       "<div>\n",
       "<style scoped>\n",
       "    .dataframe tbody tr th:only-of-type {\n",
       "        vertical-align: middle;\n",
       "    }\n",
       "\n",
       "    .dataframe tbody tr th {\n",
       "        vertical-align: top;\n",
       "    }\n",
       "\n",
       "    .dataframe thead th {\n",
       "        text-align: right;\n",
       "    }\n",
       "</style>\n",
       "<table border=\"1\" class=\"dataframe\">\n",
       "  <thead>\n",
       "    <tr style=\"text-align: right;\">\n",
       "      <th></th>\n",
       "      <th>Model</th>\n",
       "      <th>list</th>\n",
       "      <th>Price</th>\n",
       "    </tr>\n",
       "  </thead>\n",
       "  <tbody>\n",
       "    <tr>\n",
       "      <th>0</th>\n",
       "      <td>2020 Hyundai NEW SANTRO 1.1 SPORTS AMT MANUAL</td>\n",
       "      <td>History\\nNon-Accidental\\nOwner\\n1st Owner\\nKil...</td>\n",
       "      <td>₹6,44,399</td>\n",
       "    </tr>\n",
       "    <tr>\n",
       "      <th>1</th>\n",
       "      <td>2013 Hyundai i10 SPORTZ 1.2 KAPPA2 MANUAL</td>\n",
       "      <td>History\\nNon-Accidental\\nOwner\\n1st Owner\\nKil...</td>\n",
       "      <td>₹4,10,599</td>\n",
       "    </tr>\n",
       "    <tr>\n",
       "      <th>2</th>\n",
       "      <td>2015 Maruti Alto K10 VXI AMT</td>\n",
       "      <td>History\\nNon-Accidental\\nOwner\\n2nd Owner\\nKil...</td>\n",
       "      <td>₹3,79,199</td>\n",
       "    </tr>\n",
       "    <tr>\n",
       "      <th>3</th>\n",
       "      <td>2014 Tata Nano XT TWIST MANUAL</td>\n",
       "      <td>History\\nNon-Accidental\\nOwner\\n1st Owner\\nKil...</td>\n",
       "      <td>₹1,81,899</td>\n",
       "    </tr>\n",
       "    <tr>\n",
       "      <th>4</th>\n",
       "      <td>2012 Maruti Alto LXI MANUAL</td>\n",
       "      <td>History\\nNon-Accidental\\nOwner\\n2nd Owner\\nKil...</td>\n",
       "      <td>₹2,88,199</td>\n",
       "    </tr>\n",
       "    <tr>\n",
       "      <th>...</th>\n",
       "      <td>...</td>\n",
       "      <td>...</td>\n",
       "      <td>...</td>\n",
       "    </tr>\n",
       "    <tr>\n",
       "      <th>760</th>\n",
       "      <td>2014 Tata Zest XT QUADRAJET 90PS MANUAL</td>\n",
       "      <td>History\\nNon-Accidental\\nOwner\\n1st Owner\\nKil...</td>\n",
       "      <td>₹4,10,799</td>\n",
       "    </tr>\n",
       "    <tr>\n",
       "      <th>761</th>\n",
       "      <td>2012 Hyundai i10 MAGNA 1.1 IRDE2 MANUAL</td>\n",
       "      <td>History\\nNon-Accidental\\nOwner\\n1st Owner\\nKil...</td>\n",
       "      <td>₹2,70,399</td>\n",
       "    </tr>\n",
       "    <tr>\n",
       "      <th>762</th>\n",
       "      <td>2012 Hyundai Verna FLUIDIC 1.6 EX VTVT MANUAL</td>\n",
       "      <td>History\\nNon-Accidental\\nOwner\\n1st Owner\\nKil...</td>\n",
       "      <td>₹4,50,199</td>\n",
       "    </tr>\n",
       "    <tr>\n",
       "      <th>763</th>\n",
       "      <td>2013 Toyota Innova 2.5 G2 7 Seater MANUAL</td>\n",
       "      <td>History\\nNon-Accidental\\nOwner\\n1st Owner\\nKil...</td>\n",
       "      <td>₹9,36,999</td>\n",
       "    </tr>\n",
       "    <tr>\n",
       "      <th>764</th>\n",
       "      <td>2014 Ford Classic 1.4 CLXI DURATORQ MANUAL</td>\n",
       "      <td>History\\nNon-Accidental\\nOwner\\n1st Owner\\nKil...</td>\n",
       "      <td>₹3,09,999</td>\n",
       "    </tr>\n",
       "  </tbody>\n",
       "</table>\n",
       "<p>765 rows × 3 columns</p>\n",
       "</div>"
      ],
      "text/plain": [
       "                                             Model  \\\n",
       "0    2020 Hyundai NEW SANTRO 1.1 SPORTS AMT MANUAL   \n",
       "1        2013 Hyundai i10 SPORTZ 1.2 KAPPA2 MANUAL   \n",
       "2                     2015 Maruti Alto K10 VXI AMT   \n",
       "3                   2014 Tata Nano XT TWIST MANUAL   \n",
       "4                      2012 Maruti Alto LXI MANUAL   \n",
       "..                                             ...   \n",
       "760        2014 Tata Zest XT QUADRAJET 90PS MANUAL   \n",
       "761        2012 Hyundai i10 MAGNA 1.1 IRDE2 MANUAL   \n",
       "762  2012 Hyundai Verna FLUIDIC 1.6 EX VTVT MANUAL   \n",
       "763      2013 Toyota Innova 2.5 G2 7 Seater MANUAL   \n",
       "764     2014 Ford Classic 1.4 CLXI DURATORQ MANUAL   \n",
       "\n",
       "                                                  list      Price  \n",
       "0    History\\nNon-Accidental\\nOwner\\n1st Owner\\nKil...  ₹6,44,399  \n",
       "1    History\\nNon-Accidental\\nOwner\\n1st Owner\\nKil...  ₹4,10,599  \n",
       "2    History\\nNon-Accidental\\nOwner\\n2nd Owner\\nKil...  ₹3,79,199  \n",
       "3    History\\nNon-Accidental\\nOwner\\n1st Owner\\nKil...  ₹1,81,899  \n",
       "4    History\\nNon-Accidental\\nOwner\\n2nd Owner\\nKil...  ₹2,88,199  \n",
       "..                                                 ...        ...  \n",
       "760  History\\nNon-Accidental\\nOwner\\n1st Owner\\nKil...  ₹4,10,799  \n",
       "761  History\\nNon-Accidental\\nOwner\\n1st Owner\\nKil...  ₹2,70,399  \n",
       "762  History\\nNon-Accidental\\nOwner\\n1st Owner\\nKil...  ₹4,50,199  \n",
       "763  History\\nNon-Accidental\\nOwner\\n1st Owner\\nKil...  ₹9,36,999  \n",
       "764  History\\nNon-Accidental\\nOwner\\n1st Owner\\nKil...  ₹3,09,999  \n",
       "\n",
       "[765 rows x 3 columns]"
      ]
     },
     "execution_count": 19,
     "metadata": {},
     "output_type": "execute_result"
    }
   ],
   "source": [
    "# Saving data into pandas dataframe\n",
    "car24_2n_data=pd.DataFrame({\"Model\":model,\"list\":total_list,\"Price\":price})\n",
    "\n",
    "car24_2n_data"
   ]
  },
  {
   "cell_type": "code",
   "execution_count": 20,
   "metadata": {},
   "outputs": [],
   "source": [
    "car24_2n_data.to_excel(\"Car24_dataframe3.xlsx\",index=False)"
   ]
  },
  {
   "cell_type": "code",
   "execution_count": 21,
   "metadata": {},
   "outputs": [
    {
     "name": "stdout",
     "output_type": "stream",
     "text": [
      "319\n"
     ]
    },
    {
     "data": {
      "application/vnd.jupyter.widget-view+json": {
       "model_id": "bbc763409dcd462caa8903940b48e121",
       "version_major": 2,
       "version_minor": 0
      },
      "text/plain": [
       "HBox(children=(FloatProgress(value=0.0, max=317.0), HTML(value='')))"
      ]
     },
     "metadata": {},
     "output_type": "display_data"
    },
    {
     "name": "stdout",
     "output_type": "stream",
     "text": [
      "\n"
     ]
    }
   ],
   "source": [
    "# For Ahmedabad\n",
    "total_list = []\n",
    "model = []\n",
    "price = []\n",
    "\n",
    "\n",
    "car24_data(\"https://www.cars24.com/buy-used-car?sort=P&storeCityId=1692&pinId=380001\")"
   ]
  },
  {
   "cell_type": "code",
   "execution_count": 22,
   "metadata": {},
   "outputs": [
    {
     "data": {
      "text/html": [
       "<div>\n",
       "<style scoped>\n",
       "    .dataframe tbody tr th:only-of-type {\n",
       "        vertical-align: middle;\n",
       "    }\n",
       "\n",
       "    .dataframe tbody tr th {\n",
       "        vertical-align: top;\n",
       "    }\n",
       "\n",
       "    .dataframe thead th {\n",
       "        text-align: right;\n",
       "    }\n",
       "</style>\n",
       "<table border=\"1\" class=\"dataframe\">\n",
       "  <thead>\n",
       "    <tr style=\"text-align: right;\">\n",
       "      <th></th>\n",
       "      <th>Model</th>\n",
       "      <th>list</th>\n",
       "      <th>Price</th>\n",
       "    </tr>\n",
       "  </thead>\n",
       "  <tbody>\n",
       "    <tr>\n",
       "      <th>0</th>\n",
       "      <td>2020 Maruti IGNIS SIGMA 1.2 K12 MANUAL</td>\n",
       "      <td>History\\nNon-Accidental\\nOwner\\n1st Owner\\nKil...</td>\n",
       "      <td>₹5,29,899</td>\n",
       "    </tr>\n",
       "    <tr>\n",
       "      <th>1</th>\n",
       "      <td>2020 Maruti Eeco 5 STR WITH AC PLUSHTR MANUAL</td>\n",
       "      <td>History\\nNon-Accidental\\nOwner\\n1st Owner\\nKil...</td>\n",
       "      <td>₹4,83,099</td>\n",
       "    </tr>\n",
       "    <tr>\n",
       "      <th>2</th>\n",
       "      <td>2020 Maruti Eeco 5 STR WITH AC PLUSHTR MANUAL</td>\n",
       "      <td>History\\nNon-Accidental\\nOwner\\n1st Owner\\nKil...</td>\n",
       "      <td>₹4,61,999</td>\n",
       "    </tr>\n",
       "    <tr>\n",
       "      <th>3</th>\n",
       "      <td>2019 Maruti Eeco 5 STR WITH AC PLUSHTR MANUAL</td>\n",
       "      <td>History\\nNon-Accidental\\nOwner\\n1st Owner\\nKil...</td>\n",
       "      <td>₹4,75,099</td>\n",
       "    </tr>\n",
       "    <tr>\n",
       "      <th>4</th>\n",
       "      <td>2020 Maruti Alto LXI MANUAL</td>\n",
       "      <td>History\\nNon-Accidental\\nOwner\\n1st Owner\\nKil...</td>\n",
       "      <td>₹3,73,799</td>\n",
       "    </tr>\n",
       "    <tr>\n",
       "      <th>...</th>\n",
       "      <td>...</td>\n",
       "      <td>...</td>\n",
       "      <td>...</td>\n",
       "    </tr>\n",
       "    <tr>\n",
       "      <th>312</th>\n",
       "      <td>2009 Maruti Wagon R VXI MINOR MANUAL</td>\n",
       "      <td>History\\nNon-Accidental\\nOwner\\n1st Owner\\nKil...</td>\n",
       "      <td>₹1,84,099</td>\n",
       "    </tr>\n",
       "    <tr>\n",
       "      <th>313</th>\n",
       "      <td>2019 Hyundai Elite i20 1.2 MAGNA PLUS VTVT MANUAL</td>\n",
       "      <td>History\\nNon-Accidental\\nOwner\\n1st Owner\\nKil...</td>\n",
       "      <td>₹5,76,599</td>\n",
       "    </tr>\n",
       "    <tr>\n",
       "      <th>314</th>\n",
       "      <td>2018 Maruti Swift VDI MANUAL</td>\n",
       "      <td>History\\nNon-Accidental\\nOwner\\n2nd Owner\\nKil...</td>\n",
       "      <td>₹4,97,999</td>\n",
       "    </tr>\n",
       "    <tr>\n",
       "      <th>315</th>\n",
       "      <td>2014 Maruti Celerio VXI MANUAL</td>\n",
       "      <td>History\\nNon-Accidental\\nOwner\\n1st Owner\\nKil...</td>\n",
       "      <td>₹2,73,299</td>\n",
       "    </tr>\n",
       "    <tr>\n",
       "      <th>316</th>\n",
       "      <td>2014 Maruti Swift VXI MANUAL</td>\n",
       "      <td>History\\nNon-Accidental\\nOwner\\n1st Owner\\nKil...</td>\n",
       "      <td>₹3,84,599</td>\n",
       "    </tr>\n",
       "  </tbody>\n",
       "</table>\n",
       "<p>317 rows × 3 columns</p>\n",
       "</div>"
      ],
      "text/plain": [
       "                                                 Model  \\\n",
       "0               2020 Maruti IGNIS SIGMA 1.2 K12 MANUAL   \n",
       "1        2020 Maruti Eeco 5 STR WITH AC PLUSHTR MANUAL   \n",
       "2        2020 Maruti Eeco 5 STR WITH AC PLUSHTR MANUAL   \n",
       "3        2019 Maruti Eeco 5 STR WITH AC PLUSHTR MANUAL   \n",
       "4                          2020 Maruti Alto LXI MANUAL   \n",
       "..                                                 ...   \n",
       "312               2009 Maruti Wagon R VXI MINOR MANUAL   \n",
       "313  2019 Hyundai Elite i20 1.2 MAGNA PLUS VTVT MANUAL   \n",
       "314                       2018 Maruti Swift VDI MANUAL   \n",
       "315                     2014 Maruti Celerio VXI MANUAL   \n",
       "316                       2014 Maruti Swift VXI MANUAL   \n",
       "\n",
       "                                                  list      Price  \n",
       "0    History\\nNon-Accidental\\nOwner\\n1st Owner\\nKil...  ₹5,29,899  \n",
       "1    History\\nNon-Accidental\\nOwner\\n1st Owner\\nKil...  ₹4,83,099  \n",
       "2    History\\nNon-Accidental\\nOwner\\n1st Owner\\nKil...  ₹4,61,999  \n",
       "3    History\\nNon-Accidental\\nOwner\\n1st Owner\\nKil...  ₹4,75,099  \n",
       "4    History\\nNon-Accidental\\nOwner\\n1st Owner\\nKil...  ₹3,73,799  \n",
       "..                                                 ...        ...  \n",
       "312  History\\nNon-Accidental\\nOwner\\n1st Owner\\nKil...  ₹1,84,099  \n",
       "313  History\\nNon-Accidental\\nOwner\\n1st Owner\\nKil...  ₹5,76,599  \n",
       "314  History\\nNon-Accidental\\nOwner\\n2nd Owner\\nKil...  ₹4,97,999  \n",
       "315  History\\nNon-Accidental\\nOwner\\n1st Owner\\nKil...  ₹2,73,299  \n",
       "316  History\\nNon-Accidental\\nOwner\\n1st Owner\\nKil...  ₹3,84,599  \n",
       "\n",
       "[317 rows x 3 columns]"
      ]
     },
     "execution_count": 22,
     "metadata": {},
     "output_type": "execute_result"
    }
   ],
   "source": [
    "# Saving data into pandas dataframe\n",
    "car24_3r_data=pd.DataFrame({\"Model\":model,\"list\":total_list,\"Price\":price})\n",
    "\n",
    "car24_3r_data"
   ]
  },
  {
   "cell_type": "code",
   "execution_count": 23,
   "metadata": {},
   "outputs": [],
   "source": [
    "car24_3r_data.to_excel(\"car24_dataframe4.xlsx\")"
   ]
  },
  {
   "cell_type": "code",
   "execution_count": null,
   "metadata": {},
   "outputs": [],
   "source": []
  },
  {
   "cell_type": "code",
   "execution_count": null,
   "metadata": {},
   "outputs": [],
   "source": []
  },
  {
   "cell_type": "code",
   "execution_count": 24,
   "metadata": {},
   "outputs": [
    {
     "name": "stdout",
     "output_type": "stream",
     "text": [
      "1338\n"
     ]
    },
    {
     "data": {
      "application/vnd.jupyter.widget-view+json": {
       "model_id": "a925c2be5d6f48e397d94b0fde90d84b",
       "version_major": 2,
       "version_minor": 0
      },
      "text/plain": [
       "HBox(children=(FloatProgress(value=0.0, max=1336.0), HTML(value='')))"
      ]
     },
     "metadata": {},
     "output_type": "display_data"
    },
    {
     "name": "stdout",
     "output_type": "stream",
     "text": [
      "\n"
     ]
    }
   ],
   "source": [
    "# Pune\n",
    "total_list = []\n",
    "model = []\n",
    "price = []\n",
    "\n",
    "car24_data(\"https://www.cars24.com/buy-used-car?sort=P&storeCityId=2423&pinId=411001\")"
   ]
  },
  {
   "cell_type": "code",
   "execution_count": 25,
   "metadata": {},
   "outputs": [
    {
     "data": {
      "text/html": [
       "<div>\n",
       "<style scoped>\n",
       "    .dataframe tbody tr th:only-of-type {\n",
       "        vertical-align: middle;\n",
       "    }\n",
       "\n",
       "    .dataframe tbody tr th {\n",
       "        vertical-align: top;\n",
       "    }\n",
       "\n",
       "    .dataframe thead th {\n",
       "        text-align: right;\n",
       "    }\n",
       "</style>\n",
       "<table border=\"1\" class=\"dataframe\">\n",
       "  <thead>\n",
       "    <tr style=\"text-align: right;\">\n",
       "      <th></th>\n",
       "      <th>Model</th>\n",
       "      <th>list</th>\n",
       "      <th>Price</th>\n",
       "    </tr>\n",
       "  </thead>\n",
       "  <tbody>\n",
       "    <tr>\n",
       "      <th>0</th>\n",
       "      <td>2013 Hyundai i20 MAGNA O 1.2 MANUAL</td>\n",
       "      <td>History\\nNon-Accidental\\nOwner\\n1st Owner\\nKil...</td>\n",
       "      <td>₹4,07,199</td>\n",
       "    </tr>\n",
       "    <tr>\n",
       "      <th>1</th>\n",
       "      <td>2015 Hyundai Grand i10 ASTA 1.2 AT VTVT AUTOMATIC</td>\n",
       "      <td>History\\nNon-Accidental\\nOwner\\n1st Owner\\nKil...</td>\n",
       "      <td>₹5,03,899</td>\n",
       "    </tr>\n",
       "    <tr>\n",
       "      <th>2</th>\n",
       "      <td>2011 Toyota Etios Liva G MANUAL</td>\n",
       "      <td>History\\nNon-Accidental\\nOwner\\n1st Owner\\nKil...</td>\n",
       "      <td>₹2,75,299</td>\n",
       "    </tr>\n",
       "    <tr>\n",
       "      <th>3</th>\n",
       "      <td>2015 Maruti Alto K10 VXI AMT MANUAL</td>\n",
       "      <td>History\\nNon-Accidental\\nOwner\\n1st Owner\\nKil...</td>\n",
       "      <td>₹3,52,999</td>\n",
       "    </tr>\n",
       "    <tr>\n",
       "      <th>4</th>\n",
       "      <td>2011 Chevrolet Spark LT 1.0 MANUAL</td>\n",
       "      <td>History\\nNon-Accidental\\nOwner\\n1st Owner\\nKil...</td>\n",
       "      <td>₹1,51,799</td>\n",
       "    </tr>\n",
       "    <tr>\n",
       "      <th>...</th>\n",
       "      <td>...</td>\n",
       "      <td>...</td>\n",
       "      <td>...</td>\n",
       "    </tr>\n",
       "    <tr>\n",
       "      <th>1331</th>\n",
       "      <td>2010 Maruti Swift Dzire VDI BS IV MANUAL</td>\n",
       "      <td>History\\nNon-Accidental\\nOwner\\n1st Owner\\nKil...</td>\n",
       "      <td>₹2,68,599</td>\n",
       "    </tr>\n",
       "    <tr>\n",
       "      <th>1332</th>\n",
       "      <td>2015 Hyundai Creta 1.6 SX (O) CRDI</td>\n",
       "      <td>History\\nNon-Accidental\\nOwner\\n1st Owner\\nKil...</td>\n",
       "      <td>₹7,82,299</td>\n",
       "    </tr>\n",
       "    <tr>\n",
       "      <th>1333</th>\n",
       "      <td>2011 Hyundai i10 MAGNA 1.2 KAPPA2 MANUAL</td>\n",
       "      <td>History\\nNon-Accidental\\nOwner\\n1st Owner\\nKil...</td>\n",
       "      <td>₹2,53,499</td>\n",
       "    </tr>\n",
       "    <tr>\n",
       "      <th>1334</th>\n",
       "      <td>2007 Honda City ZX 1.5 EXI</td>\n",
       "      <td>History\\nNon-Accidental\\nOwner\\n1st Owner\\nKil...</td>\n",
       "      <td>₹1,42,199</td>\n",
       "    </tr>\n",
       "    <tr>\n",
       "      <th>1335</th>\n",
       "      <td>2015 Maruti Ertiga VXI CNG MANUAL</td>\n",
       "      <td>History\\nNon-Accidental\\nOwner\\n1st Owner\\nKil...</td>\n",
       "      <td>₹6,36,799</td>\n",
       "    </tr>\n",
       "  </tbody>\n",
       "</table>\n",
       "<p>1336 rows × 3 columns</p>\n",
       "</div>"
      ],
      "text/plain": [
       "                                                  Model  \\\n",
       "0                   2013 Hyundai i20 MAGNA O 1.2 MANUAL   \n",
       "1     2015 Hyundai Grand i10 ASTA 1.2 AT VTVT AUTOMATIC   \n",
       "2                       2011 Toyota Etios Liva G MANUAL   \n",
       "3                   2015 Maruti Alto K10 VXI AMT MANUAL   \n",
       "4                    2011 Chevrolet Spark LT 1.0 MANUAL   \n",
       "...                                                 ...   \n",
       "1331           2010 Maruti Swift Dzire VDI BS IV MANUAL   \n",
       "1332                 2015 Hyundai Creta 1.6 SX (O) CRDI   \n",
       "1333           2011 Hyundai i10 MAGNA 1.2 KAPPA2 MANUAL   \n",
       "1334                         2007 Honda City ZX 1.5 EXI   \n",
       "1335                  2015 Maruti Ertiga VXI CNG MANUAL   \n",
       "\n",
       "                                                   list      Price  \n",
       "0     History\\nNon-Accidental\\nOwner\\n1st Owner\\nKil...  ₹4,07,199  \n",
       "1     History\\nNon-Accidental\\nOwner\\n1st Owner\\nKil...  ₹5,03,899  \n",
       "2     History\\nNon-Accidental\\nOwner\\n1st Owner\\nKil...  ₹2,75,299  \n",
       "3     History\\nNon-Accidental\\nOwner\\n1st Owner\\nKil...  ₹3,52,999  \n",
       "4     History\\nNon-Accidental\\nOwner\\n1st Owner\\nKil...  ₹1,51,799  \n",
       "...                                                 ...        ...  \n",
       "1331  History\\nNon-Accidental\\nOwner\\n1st Owner\\nKil...  ₹2,68,599  \n",
       "1332  History\\nNon-Accidental\\nOwner\\n1st Owner\\nKil...  ₹7,82,299  \n",
       "1333  History\\nNon-Accidental\\nOwner\\n1st Owner\\nKil...  ₹2,53,499  \n",
       "1334  History\\nNon-Accidental\\nOwner\\n1st Owner\\nKil...  ₹1,42,199  \n",
       "1335  History\\nNon-Accidental\\nOwner\\n1st Owner\\nKil...  ₹6,36,799  \n",
       "\n",
       "[1336 rows x 3 columns]"
      ]
     },
     "execution_count": 25,
     "metadata": {},
     "output_type": "execute_result"
    }
   ],
   "source": [
    "# Saving data into pandas dataframe\n",
    "car24_4th_data=pd.DataFrame({\"Model\":model,\"list\":total_list,\"Price\":price})\n",
    "\n",
    "car24_4th_data"
   ]
  },
  {
   "cell_type": "code",
   "execution_count": 26,
   "metadata": {},
   "outputs": [],
   "source": [
    "car24_4th_data.to_excel(\"car24_dataframe5.xlsx\")"
   ]
  },
  {
   "cell_type": "code",
   "execution_count": 27,
   "metadata": {},
   "outputs": [
    {
     "name": "stdout",
     "output_type": "stream",
     "text": [
      "137\n"
     ]
    },
    {
     "data": {
      "application/vnd.jupyter.widget-view+json": {
       "model_id": "039d590cf90142b5aeb3cdc9762cb707",
       "version_major": 2,
       "version_minor": 0
      },
      "text/plain": [
       "HBox(children=(FloatProgress(value=0.0, max=135.0), HTML(value='')))"
      ]
     },
     "metadata": {},
     "output_type": "display_data"
    },
    {
     "name": "stdout",
     "output_type": "stream",
     "text": [
      "\n"
     ]
    }
   ],
   "source": [
    "# Luckow \n",
    "total_list = []\n",
    "model = []\n",
    "price = []\n",
    "\n",
    "car24_data(\"https://www.cars24.com/buy-used-car?sort=P&storeCityId=290&pinId=226001\")"
   ]
  },
  {
   "cell_type": "code",
   "execution_count": 28,
   "metadata": {},
   "outputs": [
    {
     "data": {
      "text/html": [
       "<div>\n",
       "<style scoped>\n",
       "    .dataframe tbody tr th:only-of-type {\n",
       "        vertical-align: middle;\n",
       "    }\n",
       "\n",
       "    .dataframe tbody tr th {\n",
       "        vertical-align: top;\n",
       "    }\n",
       "\n",
       "    .dataframe thead th {\n",
       "        text-align: right;\n",
       "    }\n",
       "</style>\n",
       "<table border=\"1\" class=\"dataframe\">\n",
       "  <thead>\n",
       "    <tr style=\"text-align: right;\">\n",
       "      <th></th>\n",
       "      <th>Model</th>\n",
       "      <th>list</th>\n",
       "      <th>Price</th>\n",
       "    </tr>\n",
       "  </thead>\n",
       "  <tbody>\n",
       "    <tr>\n",
       "      <th>0</th>\n",
       "      <td>2018 Hyundai Grand i10 MAGNA 1.2 KAPPA VTVT MA...</td>\n",
       "      <td>History\\nNon-Accidental\\nOwner\\n1st Owner\\nKil...</td>\n",
       "      <td>₹4,92,499</td>\n",
       "    </tr>\n",
       "    <tr>\n",
       "      <th>1</th>\n",
       "      <td>2020 Maruti New Wagon-R VXI 1.0 MANUAL</td>\n",
       "      <td>History\\nNon-Accidental\\nOwner\\n1st Owner\\nKil...</td>\n",
       "      <td>₹5,60,299</td>\n",
       "    </tr>\n",
       "    <tr>\n",
       "      <th>2</th>\n",
       "      <td>2020 Maruti S PRESSO VXI</td>\n",
       "      <td>History\\nNon-Accidental\\nOwner\\n1st Owner\\nKil...</td>\n",
       "      <td>₹4,47,099</td>\n",
       "    </tr>\n",
       "    <tr>\n",
       "      <th>3</th>\n",
       "      <td>2018 Maruti Alto K10 VXI MANUAL</td>\n",
       "      <td>History\\nNon-Accidental\\nOwner\\n1st Owner\\nKil...</td>\n",
       "      <td>₹3,64,399</td>\n",
       "    </tr>\n",
       "    <tr>\n",
       "      <th>4</th>\n",
       "      <td>2017 Maruti Swift VXI MANUAL</td>\n",
       "      <td>History\\nNon-Accidental\\nOwner\\n2nd Owner\\nKil...</td>\n",
       "      <td>₹5,24,099</td>\n",
       "    </tr>\n",
       "    <tr>\n",
       "      <th>...</th>\n",
       "      <td>...</td>\n",
       "      <td>...</td>\n",
       "      <td>...</td>\n",
       "    </tr>\n",
       "    <tr>\n",
       "      <th>130</th>\n",
       "      <td>2015 Hyundai Elite i20 SPORTZ (O) 1.4 MANUAL</td>\n",
       "      <td>History\\nNon-Accidental\\nOwner\\n1st Owner\\nKil...</td>\n",
       "      <td>₹4,33,800</td>\n",
       "    </tr>\n",
       "    <tr>\n",
       "      <th>131</th>\n",
       "      <td>2017 Tata NEXON XZ+ 1.5 MANUAL</td>\n",
       "      <td>History\\nNon-Accidental\\nOwner\\n1st Owner\\nKil...</td>\n",
       "      <td>₹6,29,599</td>\n",
       "    </tr>\n",
       "    <tr>\n",
       "      <th>132</th>\n",
       "      <td>2019 Hyundai Verna 1.4 CRDi EX MT</td>\n",
       "      <td>History\\nNon-Accidental\\nOwner\\n1st Owner\\nKil...</td>\n",
       "      <td>₹7,82,599</td>\n",
       "    </tr>\n",
       "    <tr>\n",
       "      <th>133</th>\n",
       "      <td>2018 Maruti Swift VDI AMT AUTOMATIC</td>\n",
       "      <td>History\\nNon-Accidental\\nOwner\\n1st Owner\\nKil...</td>\n",
       "      <td>₹6,26,899</td>\n",
       "    </tr>\n",
       "    <tr>\n",
       "      <th>134</th>\n",
       "      <td>2011 Toyota Innova 2.5 V 7STR MANUAL</td>\n",
       "      <td>History\\nNon-Accidental\\nOwner\\n1st Owner\\nKil...</td>\n",
       "      <td>₹4,76,299</td>\n",
       "    </tr>\n",
       "  </tbody>\n",
       "</table>\n",
       "<p>135 rows × 3 columns</p>\n",
       "</div>"
      ],
      "text/plain": [
       "                                                 Model  \\\n",
       "0    2018 Hyundai Grand i10 MAGNA 1.2 KAPPA VTVT MA...   \n",
       "1               2020 Maruti New Wagon-R VXI 1.0 MANUAL   \n",
       "2                             2020 Maruti S PRESSO VXI   \n",
       "3                      2018 Maruti Alto K10 VXI MANUAL   \n",
       "4                         2017 Maruti Swift VXI MANUAL   \n",
       "..                                                 ...   \n",
       "130       2015 Hyundai Elite i20 SPORTZ (O) 1.4 MANUAL   \n",
       "131                     2017 Tata NEXON XZ+ 1.5 MANUAL   \n",
       "132                  2019 Hyundai Verna 1.4 CRDi EX MT   \n",
       "133                2018 Maruti Swift VDI AMT AUTOMATIC   \n",
       "134               2011 Toyota Innova 2.5 V 7STR MANUAL   \n",
       "\n",
       "                                                  list      Price  \n",
       "0    History\\nNon-Accidental\\nOwner\\n1st Owner\\nKil...  ₹4,92,499  \n",
       "1    History\\nNon-Accidental\\nOwner\\n1st Owner\\nKil...  ₹5,60,299  \n",
       "2    History\\nNon-Accidental\\nOwner\\n1st Owner\\nKil...  ₹4,47,099  \n",
       "3    History\\nNon-Accidental\\nOwner\\n1st Owner\\nKil...  ₹3,64,399  \n",
       "4    History\\nNon-Accidental\\nOwner\\n2nd Owner\\nKil...  ₹5,24,099  \n",
       "..                                                 ...        ...  \n",
       "130  History\\nNon-Accidental\\nOwner\\n1st Owner\\nKil...  ₹4,33,800  \n",
       "131  History\\nNon-Accidental\\nOwner\\n1st Owner\\nKil...  ₹6,29,599  \n",
       "132  History\\nNon-Accidental\\nOwner\\n1st Owner\\nKil...  ₹7,82,599  \n",
       "133  History\\nNon-Accidental\\nOwner\\n1st Owner\\nKil...  ₹6,26,899  \n",
       "134  History\\nNon-Accidental\\nOwner\\n1st Owner\\nKil...  ₹4,76,299  \n",
       "\n",
       "[135 rows x 3 columns]"
      ]
     },
     "execution_count": 28,
     "metadata": {},
     "output_type": "execute_result"
    }
   ],
   "source": [
    "# Saving data into pandas dataframe\n",
    "car24_5th_data=pd.DataFrame({\"Model\":model,\"list\":total_list,\"Price\":price})\n",
    "\n",
    "car24_5th_data"
   ]
  },
  {
   "cell_type": "code",
   "execution_count": 29,
   "metadata": {},
   "outputs": [],
   "source": [
    "car24_5th_data.to_excel(\"car24_dataframe6.xlsx\")"
   ]
  }
 ],
 "metadata": {
  "kernelspec": {
   "display_name": "Python 3",
   "language": "python",
   "name": "python3"
  },
  "language_info": {
   "codemirror_mode": {
    "name": "ipython",
    "version": 3
   },
   "file_extension": ".py",
   "mimetype": "text/x-python",
   "name": "python",
   "nbconvert_exporter": "python",
   "pygments_lexer": "ipython3",
   "version": "3.8.3"
  }
 },
 "nbformat": 4,
 "nbformat_minor": 4
}
